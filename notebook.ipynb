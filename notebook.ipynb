{
 "cells": [
  {
   "attachments": {},
   "cell_type": "markdown",
   "metadata": {},
   "source": [
    "# Travel Destination Recommendation System Notebook"
   ]
  },
  {
   "attachments": {},
   "cell_type": "markdown",
   "metadata": {},
   "source": [
    "#### Authors\n",
    "* 1\n",
    "* 2 \n",
    "* 3\n",
    "* 4\n",
    "* 5\n",
    "* 6"
   ]
  },
  {
   "attachments": {},
   "cell_type": "markdown",
   "metadata": {},
   "source": [
    "\n",
    "## Problem Statement"
   ]
  },
  {
   "attachments": {},
   "cell_type": "markdown",
   "metadata": {},
   "source": [
    "The goal is to build a machine learning model that can predict hotel ratings based on customer reviews, budget, specific locations, and the type of residence. The dataset is scraped from TripAdvisor and it contains information about various hotels, including their ratings, reviews, amenities, pricing, geographical coordinates, and residence types (e.g., hotel, bed and breakfast, specialty lodging). By analyzing the text reviews along with these additional factors, the objective is to develop a model that can accurately predict the ratings of new, unseen hotels based on customer reviews, budget constraints, location preferences, and residence type."
   ]
  },
  {
   "attachments": {},
   "cell_type": "markdown",
   "metadata": {},
   "source": [
    "Approach:\n",
    "\n",
    "Data Preprocessing: Clean and preprocess the text reviews by removing stopwords, punctuation, and performing tokenization. Convert the text data into a numerical representation suitable for modeling. Handle missing values, if any, in the budget, location, and residence type columns.\n",
    "\n",
    "Feature Engineering: Extract additional features from the dataset, such as review sentiment scores, review length, and any other relevant information. Engineer new features related to budget, location, and residence type, such as price range categories, geographical distance from landmarks, and one-hot encoding of residence types.\n",
    "\n",
    "Model Selection: Experiment with different supervised learning models, such as linear regression, decision trees, random forests, or neural networks, to find the best model for predicting hotel ratings considering customer reviews, budget, location, and residence type. Evaluate the models using appropriate evaluation metrics like mean squared error (MSE) or mean absolute error (MAE).\n",
    "\n",
    "Model Training and Evaluation: Split the dataset into training and testing sets. Train the selected model on the training set and evaluate its performance on the testing set. Fine-tune the model parameters to improve its accuracy. Perform cross-validation to assess the model's generalization capabilities."
   ]
  },
  {
   "attachments": {},
   "cell_type": "markdown",
   "metadata": {},
   "source": []
  },
  {
   "cell_type": "code",
   "execution_count": null,
   "metadata": {},
   "outputs": [],
   "source": []
  },
  {
   "attachments": {},
   "cell_type": "markdown",
   "metadata": {},
   "source": [
    "## Objectives"
   ]
  },
  {
   "attachments": {},
   "cell_type": "markdown",
   "metadata": {},
   "source": []
  },
  {
   "cell_type": "code",
   "execution_count": null,
   "metadata": {},
   "outputs": [],
   "source": []
  },
  {
   "attachments": {},
   "cell_type": "markdown",
   "metadata": {},
   "source": [
    "## Data Understanding"
   ]
  },
  {
   "cell_type": "code",
   "execution_count": 1,
   "metadata": {},
   "outputs": [],
   "source": [
    "# Importing necessary libraries\n",
    "import pandas as pd\n",
    "import json\n",
    "import glob"
   ]
  },
  {
   "cell_type": "code",
   "execution_count": 2,
   "metadata": {},
   "outputs": [],
   "source": [
    "#func to read json files\n",
    "def read_json_files(json_files):\n",
    "    dfs = []\n",
    "    for file in json_files:\n",
    "        with open(file) as f:\n",
    "            json_data = json.load(f)\n",
    "            df = pd.DataFrame(json_data)\n",
    "            dfs.append(df)\n",
    "\n",
    "    merged_df = pd.concat(dfs, ignore_index=True)\n",
    "    return merged_df\n"
   ]
  },
  {
   "cell_type": "code",
   "execution_count": 3,
   "metadata": {},
   "outputs": [],
   "source": [
    "json_files = ['Data/egypt.json', 'Data/ethiopia.json', 'Data/kenya.json', 'Data/rwanda.json', 'Data/drc.json', 'Data/nigeria.json']\n",
    "df = read_json_files(json_files)\n"
   ]
  },
  {
   "cell_type": "code",
   "execution_count": 5,
   "metadata": {},
   "outputs": [
    {
     "name": "stdout",
     "output_type": "stream",
     "text": [
      "<class 'pandas.core.frame.DataFrame'>\n",
      "RangeIndex: 11122 entries, 0 to 11121\n",
      "Data columns (total 65 columns):\n",
      " #   Column                 Non-Null Count  Dtype  \n",
      "---  ------                 --------------  -----  \n",
      " 0   id                     11122 non-null  object \n",
      " 1   type                   11122 non-null  object \n",
      " 2   category               11122 non-null  object \n",
      " 3   subcategories          10234 non-null  object \n",
      " 4   name                   11122 non-null  object \n",
      " 5   locationString         10234 non-null  object \n",
      " 6   description            6505 non-null   object \n",
      " 7   image                  8907 non-null   object \n",
      " 8   photoCount             11122 non-null  int64  \n",
      " 9   awards                 10234 non-null  object \n",
      " 10  rankingPosition        8181 non-null   float64\n",
      " 11  rating                 8188 non-null   float64\n",
      " 12  rawRanking             8181 non-null   float64\n",
      " 13  phone                  7330 non-null   object \n",
      " 14  address                10234 non-null  object \n",
      " 15  addressObj             10234 non-null  object \n",
      " 16  localName              10234 non-null  object \n",
      " 17  localAddress           556 non-null    object \n",
      " 18  localLangCode          2430 non-null   object \n",
      " 19  email                  5897 non-null   object \n",
      " 20  latitude               9392 non-null   float64\n",
      " 21  longitude              9392 non-null   float64\n",
      " 22  webUrl                 11122 non-null  object \n",
      " 23  website                6360 non-null   object \n",
      " 24  rankingString          8181 non-null   object \n",
      " 25  rankingDenominator     8181 non-null   object \n",
      " 26  neighborhoodLocations  10234 non-null  object \n",
      " 27  nearestMetroStations   10234 non-null  object \n",
      " 28  ancestorLocations      10234 non-null  object \n",
      " 29  ratingHistogram        10234 non-null  object \n",
      " 30  numberOfReviews        11122 non-null  int64  \n",
      " 31  reviewTags             10234 non-null  object \n",
      " 32  reviews                11122 non-null  object \n",
      " 33  booking                885 non-null    object \n",
      " 34  offerGroup             885 non-null    object \n",
      " 35  subtype                2890 non-null   object \n",
      " 36  hotelClass             7121 non-null   object \n",
      " 37  hotelClassAttribution  2161 non-null   object \n",
      " 38  amenities              8009 non-null   object \n",
      " 39  numberOfRooms          5475 non-null   float64\n",
      " 40  priceLevel             4010 non-null   object \n",
      " 41  priceRange             3963 non-null   object \n",
      " 42  roomTips               7121 non-null   object \n",
      " 43  checkInDate            7121 non-null   object \n",
      " 44  checkOutDate           7121 non-null   object \n",
      " 45  offers                 7121 non-null   object \n",
      " 46  guideFeaturedInCopy    2 non-null      object \n",
      " 47  isClosed               223 non-null    object \n",
      " 48  isLongClosed           223 non-null    object \n",
      " 49  openNowText            89 non-null     object \n",
      " 50  cuisines               223 non-null    object \n",
      " 51  mealTypes              223 non-null    object \n",
      " 52  dishes                 223 non-null    object \n",
      " 53  features               223 non-null    object \n",
      " 54  dietaryRestrictions    223 non-null    object \n",
      " 55  hours                  89 non-null     object \n",
      " 56  menuWebUrl             18 non-null     object \n",
      " 57  establishmentTypes     223 non-null    object \n",
      " 58  ownersTopReasons       0 non-null      float64\n",
      " 59  rentalDescriptions     888 non-null    object \n",
      " 60  photos                 888 non-null    object \n",
      " 61  bedroomInfo            888 non-null    object \n",
      " 62  bathroomInfo           888 non-null    object \n",
      " 63  bathCount              888 non-null    float64\n",
      " 64  baseDailyRate          844 non-null    object \n",
      "dtypes: float64(8), int64(2), object(55)\n",
      "memory usage: 5.5+ MB\n"
     ]
    }
   ],
   "source": [
    "df.info()"
   ]
  },
  {
   "cell_type": "code",
   "execution_count": null,
   "metadata": {},
   "outputs": [],
   "source": []
  },
  {
   "attachments": {},
   "cell_type": "markdown",
   "metadata": {},
   "source": [
    "## EDA and Data Munging"
   ]
  },
  {
   "cell_type": "code",
   "execution_count": null,
   "metadata": {},
   "outputs": [],
   "source": []
  },
  {
   "cell_type": "code",
   "execution_count": null,
   "metadata": {},
   "outputs": [],
   "source": []
  },
  {
   "attachments": {},
   "cell_type": "markdown",
   "metadata": {},
   "source": [
    "## Modelling"
   ]
  },
  {
   "cell_type": "code",
   "execution_count": null,
   "metadata": {},
   "outputs": [],
   "source": []
  },
  {
   "cell_type": "code",
   "execution_count": null,
   "metadata": {},
   "outputs": [],
   "source": []
  },
  {
   "attachments": {},
   "cell_type": "markdown",
   "metadata": {},
   "source": [
    "## Model Evaluation"
   ]
  },
  {
   "cell_type": "code",
   "execution_count": null,
   "metadata": {},
   "outputs": [],
   "source": []
  },
  {
   "cell_type": "code",
   "execution_count": null,
   "metadata": {},
   "outputs": [],
   "source": []
  },
  {
   "attachments": {},
   "cell_type": "markdown",
   "metadata": {},
   "source": [
    "## Tuning"
   ]
  },
  {
   "cell_type": "code",
   "execution_count": null,
   "metadata": {},
   "outputs": [],
   "source": []
  },
  {
   "cell_type": "code",
   "execution_count": null,
   "metadata": {},
   "outputs": [],
   "source": []
  },
  {
   "attachments": {},
   "cell_type": "markdown",
   "metadata": {},
   "source": [
    "## Deployment"
   ]
  },
  {
   "cell_type": "code",
   "execution_count": null,
   "metadata": {},
   "outputs": [],
   "source": []
  },
  {
   "cell_type": "code",
   "execution_count": null,
   "metadata": {},
   "outputs": [],
   "source": []
  },
  {
   "attachments": {},
   "cell_type": "markdown",
   "metadata": {},
   "source": [
    "## Conclusion and Recommendations"
   ]
  },
  {
   "attachments": {},
   "cell_type": "markdown",
   "metadata": {},
   "source": []
  }
 ],
 "metadata": {
  "kernelspec": {
   "display_name": "learn-env",
   "language": "python",
   "name": "python3"
  },
  "language_info": {
   "codemirror_mode": {
    "name": "ipython",
    "version": 3
   },
   "file_extension": ".py",
   "mimetype": "text/x-python",
   "name": "python",
   "nbconvert_exporter": "python",
   "pygments_lexer": "ipython3",
   "version": "3.8.5"
  },
  "orig_nbformat": 4
 },
 "nbformat": 4,
 "nbformat_minor": 2
}
